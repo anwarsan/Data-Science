{
  "nbformat": 4,
  "nbformat_minor": 0,
  "metadata": {
    "colab": {
      "provenance": [],
      "toc_visible": true,
      "include_colab_link": true
    },
    "kernelspec": {
      "name": "python3",
      "display_name": "Python 3"
    },
    "language_info": {
      "name": "python"
    }
  },
  "cells": [
    {
      "cell_type": "markdown",
      "metadata": {
        "id": "view-in-github",
        "colab_type": "text"
      },
      "source": [
        "<a href=\"https://colab.research.google.com/github/anwarsan/Data-Science/blob/main/%5BLS_DS_5%5D_Advanced_Python_Functions.ipynb\" target=\"_parent\"><img src=\"https://colab.research.google.com/assets/colab-badge.svg\" alt=\"Open In Colab\"/></a>"
      ]
    },
    {
      "cell_type": "markdown",
      "source": [
        "##Function Python"
      ],
      "metadata": {
        "id": "zTX79qQMBQjI"
      }
    },
    {
      "cell_type": "code",
      "execution_count": null,
      "metadata": {
        "id": "jD3ABz4rA1ow",
        "colab": {
          "base_uri": "https://localhost:8080/"
        },
        "outputId": "b5e16d88-16d5-4886-cedb-a7885178838e"
      },
      "outputs": [
        {
          "output_type": "stream",
          "name": "stdout",
          "text": [
            "Hellow!!\n"
          ]
        }
      ],
      "source": [
        "def func1():\n",
        "  print(\"Hellow!!\")\n",
        "\n",
        "func1()"
      ]
    },
    {
      "cell_type": "code",
      "source": [
        "def my_function():\n",
        "  print(\"Hello inside a function\")\n",
        "\n",
        "my_function()"
      ],
      "metadata": {
        "id": "17iOu6H-Zzkw",
        "colab": {
          "base_uri": "https://localhost:8080/"
        },
        "outputId": "6909dcad-826d-4ad9-a0dc-f17138a2f573"
      },
      "execution_count": null,
      "outputs": [
        {
          "output_type": "stream",
          "name": "stdout",
          "text": [
            "Hello inside a function\n"
          ]
        }
      ]
    },
    {
      "cell_type": "markdown",
      "source": [
        "##Arguments"
      ],
      "metadata": {
        "id": "VTbZGBaZI2U8"
      }
    },
    {
      "cell_type": "code",
      "source": [
        "def daftar_nama(fname,lname):\n",
        "  print(fname, lname)\n",
        "\n",
        "daftar_nama(\"Taylor\",\"Fischer\")\n",
        "daftar_nama(\"Anwar\",\"San\")"
      ],
      "metadata": {
        "id": "ITw5rwwHJURF",
        "colab": {
          "base_uri": "https://localhost:8080/"
        },
        "outputId": "bbcd5700-eeb6-471a-885e-d3924a6ef452"
      },
      "execution_count": null,
      "outputs": [
        {
          "output_type": "stream",
          "name": "stdout",
          "text": [
            "Taylor Fischer\n",
            "Anwar San\n"
          ]
        }
      ]
    },
    {
      "cell_type": "code",
      "source": [
        "def my_function(fname):\n",
        "  print(fname + \"Fischer\")\n",
        "\n",
        "my_function(\"Anwar\")\n",
        "my_function(\"Lautner\")\n",
        "my_function(\"Taylor\")"
      ],
      "metadata": {
        "id": "vsy5Giv-cDui",
        "colab": {
          "base_uri": "https://localhost:8080/"
        },
        "outputId": "f652a0d2-9074-49b0-b270-f053d90c5d2f"
      },
      "execution_count": null,
      "outputs": [
        {
          "output_type": "stream",
          "name": "stdout",
          "text": [
            "AnwarFischer\n",
            "LautnerFischer\n",
            "TaylorFischer\n"
          ]
        }
      ]
    },
    {
      "cell_type": "code",
      "source": [
        "def my_function(fname, lname):\n",
        "  print(fname + \" \"+ lname)\n",
        "\n",
        "my_function(\"Taylor\", \"Lautner\")"
      ],
      "metadata": {
        "id": "bQitr_G2cD5B",
        "colab": {
          "base_uri": "https://localhost:8080/"
        },
        "outputId": "d81a6275-0dc2-4164-93ef-a33e27820846"
      },
      "execution_count": null,
      "outputs": [
        {
          "output_type": "stream",
          "name": "stdout",
          "text": [
            "Taylor Lautner\n"
          ]
        }
      ]
    },
    {
      "cell_type": "markdown",
      "source": [
        "##Arbitrary Arguments (Args)"
      ],
      "metadata": {
        "id": "Vb311hBxJob6"
      }
    },
    {
      "cell_type": "code",
      "source": [
        "def print_peserta(*peserta):\n",
        "  print(\"Peserta Ketiga:\", peserta[2])\n",
        "\n",
        "print_peserta(\"Alpha\", \"Gamma\", \"Delta\", \"Anwar\")"
      ],
      "metadata": {
        "id": "C6M5BTjsfKyK",
        "colab": {
          "base_uri": "https://localhost:8080/"
        },
        "outputId": "8e6ad5ff-e795-4fef-c115-e2ce8462ed13"
      },
      "execution_count": null,
      "outputs": [
        {
          "output_type": "stream",
          "name": "stdout",
          "text": [
            "Peserta Ketiga: Delta\n"
          ]
        }
      ]
    },
    {
      "cell_type": "code",
      "source": [],
      "metadata": {
        "id": "HlU4QStfPGmP"
      },
      "execution_count": null,
      "outputs": []
    },
    {
      "cell_type": "code",
      "source": [
        "def dftr_pst(*nama):\n",
        "  urutan = [\"pertama\",\"kedua\",\"ketiga\",\"keempat\",\"kelima\"]\n",
        "  for i in nama:\n",
        "    for j in urutan:\n",
        "        print( j,i)\n",
        "\n",
        "dftr_pst(\"Anwar\", \"Amor\", \"Rofik\",\"Daffa\",\"Fitri\")"
      ],
      "metadata": {
        "id": "OgMMqqOfKiVx",
        "colab": {
          "base_uri": "https://localhost:8080/"
        },
        "outputId": "fc7cb0bb-2b92-49d5-c5bc-eb51de60129c"
      },
      "execution_count": null,
      "outputs": [
        {
          "output_type": "stream",
          "name": "stdout",
          "text": [
            "pertama Anwar\n",
            "kedua Anwar\n",
            "ketiga Anwar\n",
            "keempat Anwar\n",
            "kelima Anwar\n",
            "pertama Amor\n",
            "kedua Amor\n",
            "ketiga Amor\n",
            "keempat Amor\n",
            "kelima Amor\n",
            "pertama Rofik\n",
            "kedua Rofik\n",
            "ketiga Rofik\n",
            "keempat Rofik\n",
            "kelima Rofik\n",
            "pertama Daffa\n",
            "kedua Daffa\n",
            "ketiga Daffa\n",
            "keempat Daffa\n",
            "kelima Daffa\n",
            "pertama Fitri\n",
            "kedua Fitri\n",
            "ketiga Fitri\n",
            "keempat Fitri\n",
            "kelima Fitri\n"
          ]
        }
      ]
    },
    {
      "cell_type": "code",
      "source": [
        "def live_sesh(*livesesh):\n",
        "  for i in livesesh:\n",
        "    print(\"Live session hari ini:\", i)\n",
        "\n",
        "live_sesh(\"Advanced Python Foundations\", \"Python Function\", \"DataFrame\")"
      ],
      "metadata": {
        "colab": {
          "base_uri": "https://localhost:8080/"
        },
        "id": "3KUxf5nKgSvf",
        "outputId": "a71b186a-87a9-45fa-d9d4-4aacd4d1a0fd"
      },
      "execution_count": null,
      "outputs": [
        {
          "output_type": "stream",
          "name": "stdout",
          "text": [
            "Live session hari ini: Advanced Python Foundations\n",
            "Live session hari ini: Python Function\n",
            "Live session hari ini: DataFrame\n"
          ]
        }
      ]
    },
    {
      "cell_type": "code",
      "source": [
        "def live_sesh(*livesesh):\n",
        "    print(\"Live session hari ini:\", livesesh[1])\n",
        "\n",
        "live_sesh(\"Advanced Python Foundations\", \"Python Function\", \"DataFrame\")"
      ],
      "metadata": {
        "colab": {
          "base_uri": "https://localhost:8080/"
        },
        "id": "cF4d_SdLQzET",
        "outputId": "3dcba85e-e666-4264-d6e7-fa30499728ea"
      },
      "execution_count": null,
      "outputs": [
        {
          "output_type": "stream",
          "name": "stdout",
          "text": [
            "Live session hari ini: Python Function\n"
          ]
        }
      ]
    },
    {
      "cell_type": "markdown",
      "source": [
        "##Keyword Arguments"
      ],
      "metadata": {
        "id": "8JkkhTMwKuGc"
      }
    },
    {
      "cell_type": "code",
      "source": [
        "def data_peserta(nama,alamat,program):\n",
        "  print(\"Nama Peserta:\", nama)\n",
        "  print(\"Alamat Peserta:\", alamat)\n",
        "  print(\"Program Peserta:\", program)\n",
        "\n",
        "data_peserta(program=\"Data Science\", nama= \"Amor\", alamat=\"Jakarta\")"
      ],
      "metadata": {
        "id": "OPck28OUKwBa",
        "colab": {
          "base_uri": "https://localhost:8080/"
        },
        "outputId": "3cd3c4d0-2923-485a-b7d2-3be3f464b708"
      },
      "execution_count": null,
      "outputs": [
        {
          "output_type": "stream",
          "name": "stdout",
          "text": [
            "Nama Peserta: Amor\n",
            "Alamat Peserta: Jakarta\n",
            "Program Peserta: Data Science\n"
          ]
        }
      ]
    },
    {
      "cell_type": "markdown",
      "source": [
        "##Arbitrary Keyword Arguments (Kwargs)"
      ],
      "metadata": {
        "id": "zXd4TzxoLNRD"
      }
    },
    {
      "cell_type": "code",
      "source": [
        "def data_pst(**data):\n",
        "  print(\"Nama Peserta:\", data[\"nama\"])\n",
        "  print(\"Prodi Peserta:\", data[\"prodi\"])\n",
        "  print(\"Program Peserta:\", data[\"program\"])\n",
        "  print(\"Asal Universitas:\", data[\"univ\"])\n",
        "\n",
        "data_pst(nama= \"Rofik\", program=\"Data Science\", prodi=\"Teknik Informatika\", univ=\"UNS\")"
      ],
      "metadata": {
        "colab": {
          "base_uri": "https://localhost:8080/"
        },
        "id": "IfKoparOkrJp",
        "outputId": "3853e5aa-e9c4-466c-df23-fc217762a209"
      },
      "execution_count": null,
      "outputs": [
        {
          "output_type": "stream",
          "name": "stdout",
          "text": [
            "Nama Peserta: Rofik\n",
            "Prodi Peserta: Teknik Informatika\n",
            "Program Peserta: Data Science\n",
            "Asal Universitas: UNS\n"
          ]
        }
      ]
    },
    {
      "cell_type": "markdown",
      "source": [
        "##Default Parameter Value"
      ],
      "metadata": {
        "id": "VMCLZhqVLf4u"
      }
    },
    {
      "cell_type": "code",
      "source": [
        "def data_pst(nama=\"Hibban\"):\n",
        "  print(\"Nama Peserta:\", nama)\n",
        "\n",
        "data_pst()\n",
        "data_pst(\"Rofik\")"
      ],
      "metadata": {
        "id": "OrgD9EagLhfu",
        "colab": {
          "base_uri": "https://localhost:8080/"
        },
        "outputId": "235c0185-e095-4dc1-a23d-17d869c60090"
      },
      "execution_count": null,
      "outputs": [
        {
          "output_type": "stream",
          "name": "stdout",
          "text": [
            "Nama Peserta: Hibban\n",
            "Nama Peserta: Rofik\n"
          ]
        }
      ]
    },
    {
      "cell_type": "code",
      "source": [
        "def dftr_pst(nama,prodi,track=\"Data Science\"):\n",
        "  print(\"Nama Peserta:\", nama)\n",
        "  print(\"Prodi Peserta:\", prodi)\n",
        "  print(\"Program Peserta:\", track, \"\\n\")\n",
        "\n",
        "dftr_pst(\"Rofik\",\"Teknik Informatika\")\n",
        "dftr_pst(\"Hibban\",\"Sistem Informasi\",\"Data Science\")"
      ],
      "metadata": {
        "id": "adpEeBF3LuXE",
        "colab": {
          "base_uri": "https://localhost:8080/"
        },
        "outputId": "d851fa14-f2b2-4579-aad5-1b0943e0ba96"
      },
      "execution_count": null,
      "outputs": [
        {
          "output_type": "stream",
          "name": "stdout",
          "text": [
            "Nama Peserta: Rofik\n",
            "Prodi Peserta: Teknik Informatika\n",
            "Program Peserta: Data Science \n",
            "\n",
            "Nama Peserta: Hibban\n",
            "Prodi Peserta: Sistem Informasi\n",
            "Program Peserta: Data Science \n",
            "\n"
          ]
        }
      ]
    },
    {
      "cell_type": "markdown",
      "source": [
        "##List sebagai argumen"
      ],
      "metadata": {
        "id": "aTrfNu6iMTBJ"
      }
    },
    {
      "cell_type": "code",
      "source": [
        "def materi(mat):\n",
        "  for i in mat:\n",
        "    print(\"Daftar Materi:\", i)\n",
        "\n",
        "mat = [\"Intro to Data Science\", \"SQL\", \"Basic Python Foundations\",\"Advanced Python Foundations\"]\n",
        "materi(mat)"
      ],
      "metadata": {
        "id": "W5-a0xzXMUqm",
        "colab": {
          "base_uri": "https://localhost:8080/"
        },
        "outputId": "ff787b17-b5d2-4ff3-c7ce-c9d8c2d6bef2"
      },
      "execution_count": null,
      "outputs": [
        {
          "output_type": "stream",
          "name": "stdout",
          "text": [
            "Daftar Materi: Intro to Data Science\n",
            "Daftar Materi: SQL\n",
            "Daftar Materi: Basic Python Foundations\n",
            "Daftar Materi: Advanced Python Foundations\n"
          ]
        }
      ]
    },
    {
      "cell_type": "markdown",
      "source": [
        "##Return Values"
      ],
      "metadata": {
        "id": "jAKflp0rMntx"
      }
    },
    {
      "cell_type": "code",
      "source": [
        "def tambah(a,b):\n",
        "  c = a + b\n",
        "  return c\n",
        "\n",
        "a = 50\n",
        "b = 30\n",
        "hasil = tambah(a,b)\n",
        "print(hasil)\n"
      ],
      "metadata": {
        "id": "7Hj-x8izMpXA",
        "colab": {
          "base_uri": "https://localhost:8080/"
        },
        "outputId": "d125da17-1772-458d-ce46-4597a0d55325"
      },
      "execution_count": null,
      "outputs": [
        {
          "output_type": "stream",
          "name": "stdout",
          "text": [
            "80\n"
          ]
        }
      ]
    },
    {
      "cell_type": "code",
      "source": [
        "def luas_persegi_pjg(panjang, lebar):\n",
        "  luas = panjang*lebar\n",
        "  return luas\n",
        "\n",
        "panjang= 9\n",
        "lebar = 5\n",
        "luas_pp = luas_persegi_pjg(panjang,lebar)\n",
        "print(luas_pp)"
      ],
      "metadata": {
        "colab": {
          "base_uri": "https://localhost:8080/"
        },
        "id": "htvFnrQljrH9",
        "outputId": "79bb7048-0119-49ee-e74b-c44482be250c"
      },
      "execution_count": 2,
      "outputs": [
        {
          "output_type": "stream",
          "name": "stdout",
          "text": [
            "45\n"
          ]
        }
      ]
    },
    {
      "cell_type": "code",
      "source": [
        "a=70\n",
        "b=50"
      ],
      "metadata": {
        "id": "c8VtV_JoSCuJ"
      },
      "execution_count": null,
      "outputs": []
    },
    {
      "cell_type": "code",
      "source": [
        "print(tambah(a,b))"
      ],
      "metadata": {
        "colab": {
          "base_uri": "https://localhost:8080/"
        },
        "id": "1BKJzz8ZR-ni",
        "outputId": "2fbca80a-2d90-4859-ed4c-be48e9597282"
      },
      "execution_count": null,
      "outputs": [
        {
          "output_type": "stream",
          "name": "stdout",
          "text": [
            "120\n"
          ]
        }
      ]
    },
    {
      "cell_type": "code",
      "source": [
        "def penjumlahan(a,b):\n",
        "  c = a + b\n",
        "  return c\n",
        "\n",
        "a = 40\n",
        "b = 30\n",
        "hasil = penjumlahan(a,b)\n",
        "print(\"Hasil penjumlahan:\", hasil)"
      ],
      "metadata": {
        "colab": {
          "base_uri": "https://localhost:8080/"
        },
        "id": "qTuicTXXqW3p",
        "outputId": "8a612043-9ca3-498e-cc80-d0d9812ddc1d"
      },
      "execution_count": null,
      "outputs": [
        {
          "output_type": "stream",
          "name": "stdout",
          "text": [
            "Hasil penjumlahan: 70\n"
          ]
        }
      ]
    },
    {
      "cell_type": "code",
      "source": [],
      "metadata": {
        "id": "Y4yMnakmR-En"
      },
      "execution_count": null,
      "outputs": []
    },
    {
      "cell_type": "markdown",
      "source": [
        "##Lambda"
      ],
      "metadata": {
        "id": "Mi3K5cN_NC4I"
      }
    },
    {
      "cell_type": "code",
      "source": [
        "x = lambda a,b:a+b\n",
        "print(x(12,2))"
      ],
      "metadata": {
        "id": "VJxwWZ2UND7z",
        "colab": {
          "base_uri": "https://localhost:8080/"
        },
        "outputId": "0af3b0d9-5243-4237-fda5-f1e8cfc5c0ea"
      },
      "execution_count": null,
      "outputs": [
        {
          "output_type": "stream",
          "name": "stdout",
          "text": [
            "14\n"
          ]
        }
      ]
    },
    {
      "cell_type": "code",
      "source": [
        "x=lambda umur:\"bukan tua\" if umur > 20 and umur < 50 else \"tua\"\n",
        "\n",
        "print(x(70))"
      ],
      "metadata": {
        "id": "s_sn-IqLNJS2",
        "colab": {
          "base_uri": "https://localhost:8080/"
        },
        "outputId": "5274b8f9-06d6-4a2d-ef80-fc44782ba63b"
      },
      "execution_count": null,
      "outputs": [
        {
          "output_type": "stream",
          "name": "stdout",
          "text": [
            "tua\n"
          ]
        }
      ]
    },
    {
      "cell_type": "code",
      "source": [
        "x = lambda a: a + 10\n",
        "print(x(8))"
      ],
      "metadata": {
        "colab": {
          "base_uri": "https://localhost:8080/"
        },
        "id": "IodsudBSr8AW",
        "outputId": "44762ace-21ec-47df-8ab3-c42d9800de22"
      },
      "execution_count": null,
      "outputs": [
        {
          "output_type": "stream",
          "name": "stdout",
          "text": [
            "18\n"
          ]
        }
      ]
    },
    {
      "cell_type": "code",
      "source": [
        "x = lambda a,b: a/b\n",
        "print(x(10,5))"
      ],
      "metadata": {
        "colab": {
          "base_uri": "https://localhost:8080/"
        },
        "id": "elqoRdcyr8aW",
        "outputId": "005eae84-0538-4acd-fcfb-5c65b68faf37"
      },
      "execution_count": null,
      "outputs": [
        {
          "output_type": "stream",
          "name": "stdout",
          "text": [
            "2.0\n"
          ]
        }
      ]
    },
    {
      "cell_type": "markdown",
      "source": [
        "##Math Functions"
      ],
      "metadata": {
        "id": "2e0G-YyENXoV"
      }
    },
    {
      "cell_type": "code",
      "source": [
        "import math\n",
        "x = math.ceil(28.7) #Buletin keatas\n",
        "y = math.floor(28.7) #Buletin kebawah\n",
        "z = math.sqrt(81) #Akar 2\n",
        "o = math.pi #Pi\n",
        "p = math.pow(4,3) #Pangkat\n",
        "q = math.fsum([1, 2, 3, 4, 5]) #Sum of list\n",
        "r = math.factorial(5) #Factorial\n",
        "print(x, y, z, o, p, q, r)"
      ],
      "metadata": {
        "id": "HkS1n4Z6NaE2",
        "colab": {
          "base_uri": "https://localhost:8080/"
        },
        "outputId": "bb8b6ce0-6c52-4473-9069-97a40fa97218"
      },
      "execution_count": null,
      "outputs": [
        {
          "output_type": "stream",
          "name": "stdout",
          "text": [
            "29 28 9.0 3.141592653589793 64.0 15.0 120\n"
          ]
        }
      ]
    },
    {
      "cell_type": "markdown",
      "source": [
        "##OOP dan Class"
      ],
      "metadata": {
        "id": "MzNcNpYwOLSW"
      }
    },
    {
      "cell_type": "code",
      "source": [
        "class cal():\n",
        "    def __init__(self,a,b):\n",
        "        self.a=a\n",
        "        self.b=b\n",
        "\n",
        "    def add(self):\n",
        "        return self.a+self.b\n",
        "    def mul(self):\n",
        "        return self.a*self.b\n",
        "    def div(self):\n",
        "        return self.a//self.b\n",
        "    def sub(self):\n",
        "        return self.a-self.b\n",
        "\n",
        "calc1 = cal(20,5)\n",
        "tambah = calc1.add()\n",
        "kurang = calc1.sub()\n",
        "kali = calc1.mul()\n",
        "bagi = calc1.div()\n",
        "\n",
        "print(\"Hasil Tambah:\", tambah)\n",
        "print(\"Hasil Kurang:\", kurang)\n",
        "print(\"Hasil Kali:\", kali)\n",
        "print(\"Hasil Bagi:\", bagi)"
      ],
      "metadata": {
        "id": "pDN-63DvONy8",
        "colab": {
          "base_uri": "https://localhost:8080/"
        },
        "outputId": "858d2f2a-9046-4602-ddac-34539766863c"
      },
      "execution_count": null,
      "outputs": [
        {
          "output_type": "stream",
          "name": "stdout",
          "text": [
            "Hasil Tambah: 25\n",
            "Hasil Kurang: 15\n",
            "Hasil Kali: 100\n",
            "Hasil Bagi: 4\n"
          ]
        }
      ]
    },
    {
      "cell_type": "code",
      "source": [
        "class Person:\n",
        "  def __init__(self, name, age):\n",
        "        attributtes\n",
        "        methods"
      ],
      "metadata": {
        "id": "I1ae95BYv0OZ"
      },
      "execution_count": null,
      "outputs": []
    },
    {
      "cell_type": "code",
      "source": [
        "class Person:\n",
        "  def __init__(self, name, age):\n",
        "    self.name = name\n",
        "    self.age = age\n",
        "\n",
        "data = Person(\"Dwi\", 20)\n",
        "\n",
        "print(data.name)\n",
        "print(data.age)"
      ],
      "metadata": {
        "colab": {
          "base_uri": "https://localhost:8080/"
        },
        "id": "3M7TPCQlw1Ul",
        "outputId": "c62f3945-b2c6-47f6-de98-96d53ad7ad47"
      },
      "execution_count": null,
      "outputs": [
        {
          "output_type": "stream",
          "name": "stdout",
          "text": [
            "Dwi\n",
            "20\n"
          ]
        }
      ]
    }
  ]
}